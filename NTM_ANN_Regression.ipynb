{
 "cells": [
  {
   "cell_type": "code",
   "id": "initial_id",
   "metadata": {
    "collapsed": true,
    "ExecuteTime": {
     "end_time": "2024-10-30T09:26:49.442604Z",
     "start_time": "2024-10-30T09:26:48.584298Z"
    }
   },
   "source": [
    "import pandas as pd\n",
    "\n",
    "# Read data\n",
    "data = []\n",
    "with open('vidu4_lin_reg.txt', 'r') as f:\n",
    "    lines = f.readlines()\n",
    "    for line in lines[1:]:  \n",
    "        values = line.strip().split() \n",
    "        data.append([float(value) for value in values])  \n",
    "\n",
    "df = pd.DataFrame(data, columns=['ID', 'TUOI', 'BIM', 'HA', 'GLUCOSE', 'CHOLESTEROL', 'BEDAYNTM'])\n",
    "\n",
    "X = df[['TUOI', 'CHOLESTEROL', 'GLUCOSE', 'HA', 'BIM']]\n",
    "y = df['BEDAYNTM']"
   ],
   "outputs": [],
   "execution_count": 1
  },
  {
   "metadata": {
    "ExecuteTime": {
     "end_time": "2024-10-30T09:26:51.232981Z",
     "start_time": "2024-10-30T09:26:49.444611Z"
    }
   },
   "cell_type": "code",
   "source": [
    "from sklearn.model_selection import train_test_split\n",
    "from sklearn.preprocessing import StandardScaler\n",
    "\n",
    "# Standardize data\n",
    "X = StandardScaler().fit_transform(X)\n",
    "# Train&Test Split\n",
    "X_train, X_test, y_train, y_test = train_test_split(X, y, test_size=0.2, random_state=42)\n",
    "\n"
   ],
   "id": "c20f9bc84b9ef51b",
   "outputs": [],
   "execution_count": 2
  },
  {
   "metadata": {},
   "cell_type": "markdown",
   "source": "# MLP Regression",
   "id": "5576a111556d3f61"
  },
  {
   "metadata": {
    "ExecuteTime": {
     "end_time": "2024-10-30T09:32:54.878840Z",
     "start_time": "2024-10-30T09:32:54.803736Z"
    }
   },
   "cell_type": "code",
   "source": [
    "from sklearn.neural_network import MLPRegressor\n",
    "from sklearn.metrics import mean_squared_error, r2_score\n",
    "import time\n",
    "\n",
    "# MLP Regression model\n",
    "start_time_mlp = time.time()\n",
    "mlp = MLPRegressor(solver='adam', hidden_layer_sizes=(30,),\n",
    "                        activation= 'relu', max_iter=3000, random_state=2)\n",
    "mlp.fit(X_train, y_train)\n",
    "end_time_mlp = time.time()\n",
    "\n",
    "time_training = end_time_mlp - start_time_mlp\n",
    "print(\"Time training of MLP Regression model: \", time_training)\n",
    "\n",
    "# Prediction on train&test\n",
    "y_pred = mlp.predict(X_train)\n",
    "y_pred_test = mlp.predict(X_test)\n",
    "\n",
    "# Mean Squared Error\n",
    "mse = mean_squared_error(y_train, y_pred)\n",
    "print(\"\\nMean Squared Error on Train data of ANN Regression:\", mse)\n",
    "# R2-Squared\n",
    "r2 = r2_score(y_train, y_pred)\n",
    "print(\"R2-Score on Train data of ANN Regression:\", r2)\n",
    "\n",
    "# Mean Squared Error\n",
    "mse = mean_squared_error(y_test, y_pred_test)\n",
    "print(\"\\nMean Squared Error on Test data of ANN Regression:\", mse)\n",
    "# R2-Squared\n",
    "r2 = r2_score(y_test, y_pred_test)\n",
    "print(\"R2-Score on Test data of ANN Regression:\", r2)\n"
   ],
   "id": "8bbf71c8276022",
   "outputs": [
    {
     "name": "stdout",
     "output_type": "stream",
     "text": [
      "Time training of MLP Regression model:  0.058966875076293945\n",
      "\n",
      "Mean Squared Error on Train data of ANN Regression: 0.07390861276324043\n",
      "R2-Score on Train data of ANN Regression: 0.47607712641950173\n",
      "\n",
      "Mean Squared Error on Test data of ANN Regression: 0.20677439701076072\n",
      "R2-Score on Test data of ANN Regression: 0.11052820213142311\n"
     ]
    }
   ],
   "execution_count": 8
  },
  {
   "metadata": {
    "ExecuteTime": {
     "end_time": "2024-10-30T09:34:41.044275Z",
     "start_time": "2024-10-30T09:34:41.002577Z"
    }
   },
   "cell_type": "code",
   "source": [
    "# Measure Predict Time on train data\n",
    "predict_times_mlp = []\n",
    "for i in range(100):  \n",
    "    start_time_predict_mlp = time.time()\n",
    "    y_pred = mlp.predict(X_train)\n",
    "    end_time_predict_mlp = time.time()\n",
    "    predict_times_mlp.append(end_time_predict_mlp - start_time_predict_mlp)\n",
    "\n",
    "# Average Time\n",
    "avg_time_predict_mlp = sum(predict_times_mlp) / len(predict_times_mlp)\n",
    "print(\"Average time of MLP prediction on train data: \", avg_time_predict_mlp)"
   ],
   "id": "3b339f903b5bfaf7",
   "outputs": [
    {
     "name": "stdout",
     "output_type": "stream",
     "text": [
      "Average time of MLP prediction:  0.000340120792388916\n"
     ]
    }
   ],
   "execution_count": 9
  },
  {
   "metadata": {
    "ExecuteTime": {
     "end_time": "2024-10-30T09:35:52.394182Z",
     "start_time": "2024-10-30T09:35:52.370851Z"
    }
   },
   "cell_type": "code",
   "source": [
    "# Measure Predict Time\n",
    "predict_times_mlp = []\n",
    "for i in range(100):  \n",
    "    start_time_predict_mlp = time.time()\n",
    "    y_pred_test = mlp.predict(X_test)\n",
    "    end_time_predict_mlp = time.time()\n",
    "    predict_times_mlp.append(end_time_predict_mlp - start_time_predict_mlp)\n",
    "\n",
    "# Average Time\n",
    "avg_time_predict_mlp = sum(predict_times_mlp) / len(predict_times_mlp)\n",
    "print(\"Average time of MLP prediction on train data: \", avg_time_predict_mlp)"
   ],
   "id": "b0f3d8f4b313e55b",
   "outputs": [
    {
     "name": "stdout",
     "output_type": "stream",
     "text": [
      "Average time of MLP prediction on train data:  0.0001518416404724121\n"
     ]
    }
   ],
   "execution_count": 10
  },
  {
   "metadata": {},
   "cell_type": "markdown",
   "source": "# Linear Regression",
   "id": "24a0dea2a7e38dd7"
  },
  {
   "metadata": {
    "ExecuteTime": {
     "end_time": "2024-10-30T09:39:16.080036Z",
     "start_time": "2024-10-30T09:39:16.059501Z"
    }
   },
   "cell_type": "code",
   "source": [
    "from sklearn.linear_model import LinearRegression\n",
    "\n",
    "# Linear Regression model\n",
    "lr = LinearRegression()\n",
    "lr.fit(X_train, y_train)\n",
    "\n",
    "# Prediction\n",
    "y_pred = lr.predict(X_test)\n",
    "\n",
    "# Mean Squared Error\n",
    "mse = mean_squared_error(y_test, y_pred)\n",
    "print(\"Mean Squared Error of Linear Regression:\", mse)\n",
    "# R-Square\n",
    "r2 = r2_score(y_test, y_pred)\n",
    "print(\"R2-Score of Linear Regression:\", r2)"
   ],
   "id": "c6a79ed2537b516b",
   "outputs": [
    {
     "name": "stdout",
     "output_type": "stream",
     "text": [
      "Mean Squared Error of Linear Regression: 0.17851473088966158\n",
      "R2-Score of Linear Regression: 0.23209149234182402\n"
     ]
    }
   ],
   "execution_count": 12
  },
  {
   "metadata": {},
   "cell_type": "markdown",
   "source": [
    "Mean Squared Error (MSE):\n",
    "\n",
    "- Linear Regression: MSE của Linear Regression là 0.1785, nghĩa là sai số trung bình bình phương giữa dự đoán và giá trị thực khá thấp.\n",
    "- ANN Regression: MSE của ANN Regression là 0.2068, cao hơn một chút so với Linear Regression, cho thấy dự đoán của ANN có sai số lớn hơn.\n",
    "Kết quả cho thấy mô hình Linear Regression có độ chính xác dự đoán cao hơn so với ANN Regression trên dữ liệu này. Mức độ chênh lệch không quá lớn, nhưng Linear Regression vẫn vượt trội hơn.\n",
    "\n",
    "R2 Score:\n",
    "\n",
    "- Linear Regression: R2 là 0.2321, nghĩa là Linear Regression có thể giải thích khoảng 23.21% phương sai của biến mục tiêu dựa trên các biến độc lập. Đây không phải là một R2 cao, nhưng nó vẫn cao hơn so với ANN Regression.\n",
    "- ANN Regression: R2 là 0.1105, thấp hơn nhiều so với Linear Regression. Điều này nghĩa là mô hình ANN chỉ giải thích được khoảng 11.05% phương sai, thể hiện ANN không bắt được mối quan hệ trong dữ liệu tốt bằng Linear Regression."
   ],
   "id": "3d270553faae5bdc"
  }
 ],
 "metadata": {
  "kernelspec": {
   "display_name": "Python 3",
   "language": "python",
   "name": "python3"
  },
  "language_info": {
   "codemirror_mode": {
    "name": "ipython",
    "version": 2
   },
   "file_extension": ".py",
   "mimetype": "text/x-python",
   "name": "python",
   "nbconvert_exporter": "python",
   "pygments_lexer": "ipython2",
   "version": "2.7.6"
  }
 },
 "nbformat": 4,
 "nbformat_minor": 5
}
