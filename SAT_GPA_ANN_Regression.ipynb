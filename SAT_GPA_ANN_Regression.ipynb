{
 "cells": [
  {
   "cell_type": "code",
   "id": "initial_id",
   "metadata": {
    "collapsed": true,
    "ExecuteTime": {
     "end_time": "2024-10-29T14:24:10.301621Z",
     "start_time": "2024-10-29T14:24:10.280250Z"
    }
   },
   "source": [
    "import pandas as pd\n",
    "\n",
    "# Read data\n",
    "data = pd.read_csv('SAT_GPA.csv')\n",
    "pd.DataFrame(data)"
   ],
   "outputs": [
    {
     "data": {
      "text/plain": [
       "     SAT   GPA\n",
       "0   1714  2.40\n",
       "1   1664  2.52\n",
       "2   1760  2.54\n",
       "3   1685  2.74\n",
       "4   1693  2.83\n",
       "..   ...   ...\n",
       "79  1936  3.71\n",
       "80  1810  3.71\n",
       "81  1987  3.73\n",
       "82  1962  3.76\n",
       "83  2050  3.81\n",
       "\n",
       "[84 rows x 2 columns]"
      ],
      "text/html": [
       "<div>\n",
       "<style scoped>\n",
       "    .dataframe tbody tr th:only-of-type {\n",
       "        vertical-align: middle;\n",
       "    }\n",
       "\n",
       "    .dataframe tbody tr th {\n",
       "        vertical-align: top;\n",
       "    }\n",
       "\n",
       "    .dataframe thead th {\n",
       "        text-align: right;\n",
       "    }\n",
       "</style>\n",
       "<table border=\"1\" class=\"dataframe\">\n",
       "  <thead>\n",
       "    <tr style=\"text-align: right;\">\n",
       "      <th></th>\n",
       "      <th>SAT</th>\n",
       "      <th>GPA</th>\n",
       "    </tr>\n",
       "  </thead>\n",
       "  <tbody>\n",
       "    <tr>\n",
       "      <th>0</th>\n",
       "      <td>1714</td>\n",
       "      <td>2.40</td>\n",
       "    </tr>\n",
       "    <tr>\n",
       "      <th>1</th>\n",
       "      <td>1664</td>\n",
       "      <td>2.52</td>\n",
       "    </tr>\n",
       "    <tr>\n",
       "      <th>2</th>\n",
       "      <td>1760</td>\n",
       "      <td>2.54</td>\n",
       "    </tr>\n",
       "    <tr>\n",
       "      <th>3</th>\n",
       "      <td>1685</td>\n",
       "      <td>2.74</td>\n",
       "    </tr>\n",
       "    <tr>\n",
       "      <th>4</th>\n",
       "      <td>1693</td>\n",
       "      <td>2.83</td>\n",
       "    </tr>\n",
       "    <tr>\n",
       "      <th>...</th>\n",
       "      <td>...</td>\n",
       "      <td>...</td>\n",
       "    </tr>\n",
       "    <tr>\n",
       "      <th>79</th>\n",
       "      <td>1936</td>\n",
       "      <td>3.71</td>\n",
       "    </tr>\n",
       "    <tr>\n",
       "      <th>80</th>\n",
       "      <td>1810</td>\n",
       "      <td>3.71</td>\n",
       "    </tr>\n",
       "    <tr>\n",
       "      <th>81</th>\n",
       "      <td>1987</td>\n",
       "      <td>3.73</td>\n",
       "    </tr>\n",
       "    <tr>\n",
       "      <th>82</th>\n",
       "      <td>1962</td>\n",
       "      <td>3.76</td>\n",
       "    </tr>\n",
       "    <tr>\n",
       "      <th>83</th>\n",
       "      <td>2050</td>\n",
       "      <td>3.81</td>\n",
       "    </tr>\n",
       "  </tbody>\n",
       "</table>\n",
       "<p>84 rows × 2 columns</p>\n",
       "</div>"
      ]
     },
     "execution_count": 1,
     "metadata": {},
     "output_type": "execute_result"
    }
   ],
   "execution_count": 1
  },
  {
   "metadata": {
    "ExecuteTime": {
     "end_time": "2024-10-29T14:24:10.531608Z",
     "start_time": "2024-10-29T14:24:10.344215Z"
    }
   },
   "cell_type": "code",
   "source": [
    "from sklearn.model_selection import train_test_split\n",
    "from sklearn.preprocessing import StandardScaler\n",
    "\n",
    "X = data[['SAT']]\n",
    "y = data['GPA']\n",
    "\n",
    "# Chuẩn hóa dữ liệu\n",
    "scaler = StandardScaler()\n",
    "X = scaler.fit_transform(X)\n",
    "\n",
    "X_train, X_test, y_train, y_test = train_test_split(X, y, test_size=0.357, random_state=2)"
   ],
   "id": "1b598f21c2cd7d77",
   "outputs": [],
   "execution_count": 2
  },
  {
   "metadata": {
    "ExecuteTime": {
     "end_time": "2024-10-29T14:24:10.729184Z",
     "start_time": "2024-10-29T14:24:10.563063Z"
    }
   },
   "cell_type": "code",
   "source": [
    "from matplotlib import pyplot as plt\n",
    "\n",
    "# Visualize\n",
    "plt.scatter(X,y)\n",
    "plt.xlabel('SAT', fontsize = 20)\n",
    "plt.ylabel('GPA', fontsize = 20)\n",
    "plt.show()\n",
    "\n"
   ],
   "id": "60b8d9e8ca6d0a41",
   "outputs": [
    {
     "data": {
      "text/plain": [
       "<Figure size 640x480 with 1 Axes>"
      ],
      "image/png": "[encoded data removed]"
     },
     "metadata": {},
     "output_type": "display_data"
    }
   ],
   "execution_count": 3
  },
  {
   "metadata": {},
   "cell_type": "markdown",
   "source": "# MLP Regression",
   "id": "2a2acddc646492e2"
  },
  {
   "metadata": {
    "ExecuteTime": {
     "end_time": "2024-10-29T15:01:48.665211Z",
     "start_time": "2024-10-29T15:01:48.524716Z"
    }
   },
   "cell_type": "code",
   "source": [
    "from sklearn.neural_network import MLPRegressor\n",
    "from sklearn.metrics import mean_squared_error, r2_score\n",
    "import time\n",
    "# MLP Regression model\n",
    "start_time_mlp = time.time()\n",
    "mlp = MLPRegressor(solver='adam', hidden_layer_sizes=(30,),\n",
    "                        activation= 'relu', max_iter=3000, random_state=2)\n",
    "mlp.fit(X_train, y_train)\n",
    "end_time_mlp = time.time()\n",
    "\n",
    "time_training = end_time_mlp - start_time_mlp\n",
    "print(\"Time training of MLP Regression model: \", time_training)\n",
    "\n",
    "# Prediction\n",
    "y_pred = mlp.predict(X_test)\n",
    "# Mean Squared Error\n",
    "mse = mean_squared_error(y_test, y_pred)\n",
    "print(\"Mean Squared Error of ANN Regression:\", mse)\n",
    "# R2-Squared\n",
    "r2 = r2_score(y_test, y_pred)\n",
    "print(\"R2-Score of ANN Regression:\", r2)"
   ],
   "id": "781e6983b52cd162",
   "outputs": [
    {
     "name": "stdout",
     "output_type": "stream",
     "text": [
      "Time training of MLP Regression model:  0.13007521629333496\n",
      "Mean Squared Error of ANN Regression: 0.11761055767715342\n",
      "R2-Score of ANN Regression: -0.3389705110051382\n"
     ]
    }
   ],
   "execution_count": 15
  },
  {
   "metadata": {
    "ExecuteTime": {
     "end_time": "2024-10-29T15:07:06.956434Z",
     "start_time": "2024-10-29T15:07:06.940409Z"
    }
   },
   "cell_type": "code",
   "source": [
    "# Measure Predict Time\n",
    "predict_times_mlp = []\n",
    "for i in range(100):  \n",
    "    start_time_predict_mlp = time.time()\n",
    "    y_pred_mlp = mlp.predict(X_test)\n",
    "    end_time_predict_mlp = time.time()\n",
    "    predict_times_mlp.append(end_time_predict_mlp - start_time_predict_mlp)\n",
    "\n",
    "# Average Time\n",
    "avg_time_predict_mlp = sum(predict_times_mlp) / len(predict_times_mlp)\n",
    "print(\"Average time of MLP prediction: \", avg_time_predict_mlp)\n"
   ],
   "id": "7eb73b1168f15688",
   "outputs": [
    {
     "name": "stdout",
     "output_type": "stream",
     "text": [
      "Average time of MLP prediction:  0.00013031721115112305\n"
     ]
    }
   ],
   "execution_count": 22
  },
  {
   "metadata": {},
   "cell_type": "markdown",
   "source": "# LINEAR REGRESSION",
   "id": "62695735ab866708"
  },
  {
   "metadata": {
    "ExecuteTime": {
     "end_time": "2024-10-29T15:02:43.314702Z",
     "start_time": "2024-10-29T15:02:43.303010Z"
    }
   },
   "cell_type": "code",
   "source": [
    "from sklearn.linear_model import LinearRegression\n",
    "\n",
    "# Linear Regression model\n",
    "start_time_lr = time.time()\n",
    "lr = LinearRegression(fit_intercept=True)\n",
    "lr.fit(X_train, y_train)\n",
    "end_time_lr = time.time()\n",
    "\n",
    "time_training_lr = end_time_lr - start_time_lr\n",
    "print(\"Time training of Linear Regression model: \", time_training_lr)\n",
    "\n",
    "# Prediction\n",
    "y_pred = lr.predict(X_test)\n",
    "# Mean Squared Error\n",
    "mse = mean_squared_error(y_test, y_pred)\n",
    "print(\"Mean Squared Error of Linear Regression:\", mse)\n",
    "# R2-Squared\n",
    "r2 = r2_score(y_test, y_pred)\n",
    "print(\"R2-Score of Linear Regression:\", r2)\n"
   ],
   "id": "5d4176a97f7cc0c7",
   "outputs": [
    {
     "name": "stdout",
     "output_type": "stream",
     "text": [
      "Time training of Linear Regression model:  0.0071218013763427734\n",
      "Mean Squared Error of Linear Regression: 0.05098359334283457\n",
      "R2-Score of Linear Regression: 0.41956292547710317\n"
     ]
    }
   ],
   "execution_count": 18
  },
  {
   "metadata": {},
   "cell_type": "markdown",
   "source": [
    "Thời gian training:\n",
    "- Linear Regression: Thời gian rất nhanh (0.0071 giây), cho thấy mô hình LR có thể được huấn luyện rất nhanh chóng và hiệu quả, điều này phù hợp với tính chất đơn giản của nó.\n",
    "- MLP Regression: Thời gian đào tạo dài hơn (0.1301 giây). MLP là một mô hình phức tạp hơn nhiều so với LR, do đó, thời gian đào tạo của nó cũng sẽ lâu hơn.\n",
    "\n",
    "Mean Squared Error (MSE):\n",
    "\n",
    "- Linear Regression: MSE thấp hơn (0.0510), cho thấy mô hình LR đã dự đoán tốt hơn, khá gần với giá trị thực.\n",
    "- MLP Regression: MSE cao hơn (0.1176), cho thấy mô hình MLP không dự đoán chính xác bằng mô hình LR trong trường hợp này. MSE của MLP cao hơn cho thấy độ sai lệch lớn hơn giữa giá trị dự đoán và giá trị thực.\n",
    "\n",
    "R2-Score:\n",
    "\n",
    "- Linear Regression: R2-Score dương (0.4196), cho thấy mô hình LR có khả năng giải thích khoảng 41.96% phương sai của dữ liệu. Đây là một chỉ số tương đối khá cho các mô hình hồi quy.\n",
    "- MLP Regression: R2-Score âm (-0.3390), cho thấy mô hình MLP thực sự không chỉ kém hiệu quả mà còn có thể không phù hợp với dữ liệu. Điều này có thể chỉ ra rằng mô hình MLP chưa được tối ưu hóa tốt, có thể do vấn đề với việc lựa chọn tham số, cấu trúc mạng, hoặc do mô hình quá phức tạp cho tập dữ liệu nhỏ."
   ],
   "id": "934efaaff0aed134"
  },
  {
   "metadata": {
    "ExecuteTime": {
     "end_time": "2024-10-29T15:03:45.222428Z",
     "start_time": "2024-10-29T15:03:45.199584Z"
    }
   },
   "cell_type": "code",
   "source": [
    "# Measure Predict Time\n",
    "predict_times_lr = []\n",
    "for i in range(100):\n",
    "    start_time_predict_lr = time.time()\n",
    "    y_pred_lr = lr.predict(X_test)\n",
    "    end_time_predict_lr = time.time()\n",
    "    predict_times_lr.append(end_time_predict_lr - start_time_predict_lr)\n",
    "\n",
    "# Average Time\n",
    "avg_time_predict_mlp = sum(predict_times_lr) / len(predict_times_lr)\n",
    "print(\"Average time of LR prediction: \", avg_time_predict_mlp)"
   ],
   "id": "49c1f7a433cb7412",
   "outputs": [
    {
     "name": "stdout",
     "output_type": "stream",
     "text": [
      "Average time of LR prediction:  5.4187774658203125e-05\n"
     ]
    }
   ],
   "execution_count": 20
  },
  {
   "metadata": {},
   "cell_type": "markdown",
   "source": "",
   "id": "775a3bc400b579ac"
  },
  {
   "metadata": {},
   "cell_type": "markdown",
   "source": [
    "- Linear Regression có thời gian dự đoán nhanh hơn MLP, điều này có thể là do LR là một mô hình đơn giản hơn với ít tham số hơn cần phải tính toán.\n",
    "- MLP, mặc dù có thời gian dự đoán vẫn ở mức chấp nhận được, nhưng thời gian dự đoán của nó cao hơn so với LR. Điều này cũng là điều thường thấy, bởi vì MLP thường cần thực hiện nhiều phép toán hơn để tính toán đầu ra do cấu trúc mạng phức tạp hơn."
   ],
   "id": "7c6e5bc6af0907f6"
  },
  {
   "metadata": {
    "ExecuteTime": {
     "end_time": "2024-10-29T15:28:11.316345Z",
     "start_time": "2024-10-29T15:28:11.171888Z"
    }
   },
   "cell_type": "code",
   "source": [
    "# MLP Regression model\n",
    "mlp_one= MLPRegressor(solver='adam', hidden_layer_sizes=(75,),\n",
    "                            activation= 'relu', max_iter=3000, random_state=2)\n",
    "mlp_one.fit(X_train, y_train)\n",
    "    \n",
    "# Prediction\n",
    "y_pred_one = mlp_one.predict(X_test)\n",
    "# Mean Squared Error\n",
    "mse_one = mean_squared_error(y_test, y_pred_one)\n",
    "print(\"Mean Squared Error of ANN Regression(75 neurons):\", mse_one)\n",
    "# R2-Squared\n",
    "r2_one = r2_score(y_test, y_pred_one)\n",
    "print(\"R2-Score of ANN Regression(75 neurons):\", r2_one)\n",
    "    "
   ],
   "id": "8479e0b8a197105c",
   "outputs": [
    {
     "name": "stdout",
     "output_type": "stream",
     "text": [
      "Mean Squared Error of ANN Regression(75 neurons): 0.09972602960500421\n",
      "R2-Score of ANN Regression(75 neurons): -0.1353590651893073\n"
     ]
    }
   ],
   "execution_count": 30
  },
  {
   "metadata": {
    "ExecuteTime": {
     "end_time": "2024-10-29T15:28:14.680041Z",
     "start_time": "2024-10-29T15:28:14.465355Z"
    }
   },
   "cell_type": "code",
   "source": [
    "# MLP Regression model\n",
    "mlp_two= MLPRegressor(solver='adam', hidden_layer_sizes=(50,),\n",
    "                            activation= 'relu', max_iter=3000, random_state=2)\n",
    "mlp_two.fit(X_train, y_train)\n",
    "    \n",
    "# Prediction\n",
    "y_pred_two = mlp_two.predict(X_test)\n",
    "# Mean Squared Error\n",
    "mse_two = mean_squared_error(y_test, y_pred_two)\n",
    "print(\"Mean Squared Error of ANN Regression(50 neurons):\", mse_two)\n",
    "# R2-Squared\n",
    "r2_two = r2_score(y_test, y_pred_two)\n",
    "print(\"R2-Score of ANN Regression(50 neurons):\", r2_two)\n",
    "    "
   ],
   "id": "be67c18755d39dfb",
   "outputs": [
    {
     "name": "stdout",
     "output_type": "stream",
     "text": [
      "Mean Squared Error of ANN Regression(50 neurons): 0.11907915863526064\n",
      "R2-Score of ANN Regression(50 neurons): -0.3556902121457224\n"
     ]
    }
   ],
   "execution_count": 31
  },
  {
   "metadata": {},
   "cell_type": "markdown",
   "source": [
    "MỐI QUAN HỆ GIỮA SIÊU THAM SỐ VÀ CÁC KẾT QUẢ DỰ ĐOÁN\n",
    "\n",
    "- Mô hình với 75 nơ-ron có khả năng học tốt hơn các đặc trưng từ dữ liệu, dẫn đến MSE thấp hơn và R2-Score cao hơn so với mô hình với 50 nơ-ron. Điều này có thể cho thấy rằng mô hình có khả năng xử lý và biểu diễn các mối quan hệ phức tạp hơn trong dữ liệu.\n",
    "- Điều này nhấn mạnh tầm quan trọng của việc điều chỉnh siêu tham số trong quá trình phát triển mô hình để tối ưu hóa hiệu suất dự đoán.\n"
   ],
   "id": "9908d60cf51da318"
  }
 ],
 "metadata": {
  "kernelspec": {
   "display_name": "Python 3",
   "language": "python",
   "name": "python3"
  },
  "language_info": {
   "codemirror_mode": {
    "name": "ipython",
    "version": 2
   },
   "file_extension": ".py",
   "mimetype": "text/x-python",
   "name": "python",
   "nbconvert_exporter": "python",
   "pygments_lexer": "ipython2",
   "version": "2.7.6"
  }
 },
 "nbformat": 4,
 "nbformat_minor": 5
}
