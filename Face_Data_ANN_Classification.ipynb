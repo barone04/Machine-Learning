{
 "cells": [
  {
   "cell_type": "code",
   "id": "initial_id",
   "metadata": {
    "collapsed": true,
    "ExecuteTime": {
     "end_time": "2024-10-29T12:55:26.156060Z",
     "start_time": "2024-10-29T12:55:24.518928Z"
    }
   },
   "source": [
    "import numpy as np \n",
    "import cv2\n",
    "import matplotlib.pyplot as plt\n",
    "from scipy.signal.windows import gaussian"
   ],
   "outputs": [],
   "execution_count": 1
  },
  {
   "metadata": {
    "ExecuteTime": {
     "end_time": "2024-10-29T12:55:26.840700Z",
     "start_time": "2024-10-29T12:55:26.320062Z"
    }
   },
   "cell_type": "code",
   "source": [
    "# path to the database - change it if needed\n",
    "path = 'face_data/' \n",
    "\n",
    "ids = range(1, 16) # 15 people\n",
    "states = ['centerlight', 'glasses', 'happy', 'leftlight', \n",
    "          'noglasses', 'normal', 'rightlight','sad', \n",
    "          'sleepy', 'surprised', 'wink' ]\n",
    "prefix = 'subject'\n",
    "surfix = '.png' #file extension is png\n",
    "\n",
    "# open one picture to get the image's size\n",
    "fn = prefix + '01.' + states[0] + surfix\n",
    "im = cv2.imread(path + fn, 0)\n",
    "\n",
    "h = im.shape[0] # hight \n",
    "w = im.shape[1] # width\n",
    "\n",
    "D = h * w\n",
    "N = len(states)*15 \n",
    "print(N, D, h, w)\n",
    "\n",
    "X = np.zeros((D, N))\n",
    "Y = np.zeros(N)\n",
    "\n",
    "# collect all data\n",
    "count = 0 \n",
    "\n",
    "# there are 15 people\n",
    "for person_id in range(1, 16):\n",
    "    for state in states:\n",
    "        \n",
    "        # get name of each image file\n",
    "        fn = path + prefix + str(person_id).zfill(2) + '.' + state + surfix\n",
    "        \n",
    "        # open the file and read as grey image\n",
    "        tmp = cv2.imread(fn, cv2.IMREAD_GRAYSCALE)\n",
    "        \n",
    "        # then add image to dataset X\n",
    "        X[:, count] = tmp.reshape(D)\n",
    "        Y[count] = states.index(state)\n",
    "        \n",
    "        count += 1 \n",
    "Y = Y.astype(int)"
   ],
   "id": "ee9a0059686a045c",
   "outputs": [
    {
     "name": "stdout",
     "output_type": "stream",
     "text": [
      "165 77760 243 320\n"
     ]
    }
   ],
   "execution_count": 2
  },
  {
   "metadata": {
    "ExecuteTime": {
     "end_time": "2024-10-29T12:55:33.442215Z",
     "start_time": "2024-10-29T12:55:26.840700Z"
    }
   },
   "cell_type": "code",
   "source": [
    "from sklearn.preprocessing import StandardScaler\n",
    "from sklearn.decomposition import PCA\n",
    "\n",
    "# Standardize data\n",
    "X = StandardScaler().fit_transform(X)\n",
    "# Reduce component\n",
    "pca = PCA(n_components=125)\n",
    "X_pca = pca.fit_transform(X.T)"
   ],
   "id": "23f8a3dcb4fe3d69",
   "outputs": [],
   "execution_count": 3
  },
  {
   "metadata": {
    "ExecuteTime": {
     "end_time": "2024-10-29T12:55:33.520713Z",
     "start_time": "2024-10-29T12:55:33.505550Z"
    }
   },
   "cell_type": "code",
   "source": [
    "# Split train&test\n",
    "from sklearn.model_selection import train_test_split\n",
    "X_train, X_test, y_train, y_test = train_test_split(X_pca, Y, test_size=0.3, random_state=1)"
   ],
   "id": "4117fe76f6365d1a",
   "outputs": [],
   "execution_count": 4
  },
  {
   "metadata": {
    "ExecuteTime": {
     "end_time": "2024-10-29T12:55:34.474975Z",
     "start_time": "2024-10-29T12:55:33.531657Z"
    }
   },
   "cell_type": "code",
   "source": [
    "from sklearn.linear_model import LogisticRegression\n",
    "from sklearn.metrics import accuracy_score\n",
    "\n",
    "def multinomial_logistic_regression(X_train, y_train, X_test, y_test):\n",
    "    lorg = LogisticRegression(solver='sag', max_iter=3000, penalty='l2')\n",
    "    lorg.fit(X_train, y_train)\n",
    "    \n",
    "    # Prediction\n",
    "    y_pred_softmax = lorg.predict(X_train)\n",
    "    y_test_pred_softmax = lorg.predict(X_test)\n",
    "    \n",
    "    # Accuracy\n",
    "    accuracy_train = accuracy_score(y_train, y_pred_softmax)\n",
    "    accuracy_test = accuracy_score(y_test, y_test_pred_softmax)\n",
    "    print(\"Train Accuracy of Multinomial Logistic Regression: \", accuracy_train)\n",
    "    print(\"Test Accuracy of Multinomial Logistic Regression: \", accuracy_test)\n",
    "multinomial_logistic_regression(X_train, y_train, X_test, y_test)"
   ],
   "id": "27e45507c1fd5731",
   "outputs": [
    {
     "name": "stdout",
     "output_type": "stream",
     "text": [
      "Train Accuracy of Multinomial Logistic Regression:  0.9739130434782609\n",
      "Test Accuracy of Multinomial Logistic Regression:  0.26\n"
     ]
    }
   ],
   "execution_count": 5
  },
  {
   "metadata": {
    "ExecuteTime": {
     "end_time": "2024-10-29T12:55:34.510101Z",
     "start_time": "2024-10-29T12:55:34.488942Z"
    }
   },
   "cell_type": "code",
   "source": [
    "from sklearn.naive_bayes import GaussianNB\n",
    "\n",
    "def naive_bayes_model(X_train, Y_train, X_test, Y_test):\n",
    "    gaussian = GaussianNB()\n",
    "    gaussian.fit(X_train, Y_train)\n",
    "    \n",
    "    # Prediction \n",
    "    y_pred_gausian = gaussian.predict(X_train)\n",
    "    y_test_pred_gaussian = gaussian.predict(X_test)\n",
    "    \n",
    "    # Accuracy\n",
    "    accuracy_train = accuracy_score(Y_train, y_pred_gausian)\n",
    "    print(\"Train Accuracy on test data of Naive Bayes:\", accuracy_train)\n",
    "    accuracy_test = accuracy_score(Y_test, y_test_pred_gaussian)\n",
    "    print(\"Test Accuracy on test data of Naive Bayes:\", accuracy_test)\n",
    "naive_bayes_model(X_train, y_train, X_test, y_test)"
   ],
   "id": "8cdea83d5938e5c3",
   "outputs": [
    {
     "name": "stdout",
     "output_type": "stream",
     "text": [
      "Train Accuracy on test data of Naive Bayes: 0.9478260869565217\n",
      "Test Accuracy on test data of Naive Bayes: 0.12\n"
     ]
    }
   ],
   "execution_count": 6
  },
  {
   "metadata": {
    "ExecuteTime": {
     "end_time": "2024-10-29T12:55:34.687110Z",
     "start_time": "2024-10-29T12:55:34.522208Z"
    }
   },
   "cell_type": "code",
   "source": [
    "from sklearn.neural_network import MLPClassifier\n",
    "\n",
    "def ANN_model(X_train, Y_train, X_test, Y_test):\n",
    "    ann = MLPClassifier(solver='adam', hidden_layer_sizes=(128, 64), activation='relu', max_iter=3000, random_state=1)\n",
    "    ann.fit(X_train, Y_train)\n",
    "    \n",
    "    # Prediction\n",
    "    y_pred_ann = ann.predict(X_train)\n",
    "    y_test_pred_ann = ann.predict(X_test)\n",
    "    # Accuracy\n",
    "    accuracy_train = accuracy_score(Y_train, y_pred_ann)\n",
    "    accuracy = accuracy_score(Y_test, y_test_pred_ann)\n",
    "    print(\"Train Accuracy on test data of ANN Classification:\", accuracy)\n",
    "    print(\"Test Accuracy on test data of ANN Classification:\", accuracy)\n",
    "ANN_model(X_train, y_train, X_test, y_test)"
   ],
   "id": "2cd126b7b45fe416",
   "outputs": [
    {
     "name": "stdout",
     "output_type": "stream",
     "text": [
      "Train Accuracy on test data of ANN Classification: 0.22\n",
      "Test Accuracy on test data of ANN Classification: 0.22\n"
     ]
    }
   ],
   "execution_count": 7
  },
  {
   "metadata": {
    "ExecuteTime": {
     "end_time": "2024-10-29T13:26:10.802317Z",
     "start_time": "2024-10-29T13:26:10.790571Z"
    }
   },
   "cell_type": "code",
   "source": [
    "import cv2\n",
    "import numpy as np\n",
    "\n",
    "new_images = []\n",
    "path_to_new_images = 'new_data/' \n",
    "image_filenames = ['pic1.png', 'pic2.png', 'pic3.png', 'pic4.png', 'pic5.png']  \n",
    "\n",
    "for filename in image_filenames:\n",
    "    img = cv2.imread(path_to_new_images + filename, cv2.IMREAD_GRAYSCALE)\n",
    "    img_resized = cv2.resize(img, (243, 320))  \n",
    "    img_flattened = img_resized.flatten() \n",
    "    new_images.append(img_flattened)\n",
    "\n",
    "new_images = np.array(new_images)  "
   ],
   "id": "bbd64b9c1bfdf2bf",
   "outputs": [],
   "execution_count": 12
  },
  {
   "metadata": {
    "ExecuteTime": {
     "end_time": "2024-10-29T12:55:34.761634Z",
     "start_time": "2024-10-29T12:55:34.729781Z"
    }
   },
   "cell_type": "code",
   "source": "new_images_pca = pca.transform(new_images)",
   "id": "6b4260f53db373b",
   "outputs": [],
   "execution_count": 9
  },
  {
   "metadata": {
    "ExecuteTime": {
     "end_time": "2024-10-29T12:55:34.790523Z",
     "start_time": "2024-10-29T12:55:34.779365Z"
    }
   },
   "cell_type": "code",
   "source": [
    "gaussian = GaussianNB()\n",
    "gaussian.fit(X_train, y_train)\n",
    "\n",
    "\n",
    "# Giả sử model là mô hình ANN đã huấn luyện\n",
    "predictions = gaussian.predict(new_images_pca)\n",
    "print(\"Predicted classes for the new images:\", predictions)"
   ],
   "id": "f64e2c9f09f5274b",
   "outputs": [
    {
     "name": "stdout",
     "output_type": "stream",
     "text": [
      "Predicted classes for the new images: [6 6 6 6 1]\n"
     ]
    }
   ],
   "execution_count": 10
  }
 ],
 "metadata": {
  "kernelspec": {
   "display_name": "Python 3",
   "language": "python",
   "name": "python3"
  },
  "language_info": {
   "codemirror_mode": {
    "name": "ipython",
    "version": 2
   },
   "file_extension": ".py",
   "mimetype": "text/x-python",
   "name": "python",
   "nbconvert_exporter": "python",
   "pygments_lexer": "ipython2",
   "version": "2.7.6"
  }
 },
 "nbformat": 4,
 "nbformat_minor": 5
}
